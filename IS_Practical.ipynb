{
  "nbformat": 4,
  "nbformat_minor": 0,
  "metadata": {
    "colab": {
      "provenance": []
    },
    "kernelspec": {
      "name": "python3",
      "display_name": "Python 3"
    },
    "language_info": {
      "name": "python"
    }
  },
  "cells": [
    {
      "cell_type": "markdown",
      "source": [
        "# **Euclidean Algorithm**"
      ],
      "metadata": {
        "id": "YSHGktIlat7R"
      }
    },
    {
      "cell_type": "code",
      "source": [
        "def gcd(a, b):\n",
        "    if a == 0 :\n",
        "        return b\n",
        "\n",
        "    return gcd(b%a, a)\n",
        "a=int(input(\"Enter a:\"))\n",
        "b=int(input(\"Enter b:\"))\n",
        "print(\"gcd(\", a , \",\" , b, \") = \", gcd(a, b))"
      ],
      "metadata": {
        "colab": {
          "base_uri": "https://localhost:8080/"
        },
        "id": "0KzJbKKdanDM",
        "outputId": "24d45616-f73a-47e0-f93d-5cf15efa5eb5"
      },
      "execution_count": null,
      "outputs": [
        {
          "output_type": "stream",
          "name": "stdout",
          "text": [
            "Enter a:24\n",
            "Enter b:36\n",
            "gcd( 24 , 36 ) =  12\n"
          ]
        }
      ]
    },
    {
      "cell_type": "markdown",
      "source": [
        "# **Extended Euclidean Algorithm**"
      ],
      "metadata": {
        "id": "MYa264GQFazG"
      }
    },
    {
      "cell_type": "code",
      "source": [
        "def gcdExtended(a, b):\n",
        "    if a == 0 :\n",
        "        return b,0,1\n",
        "\n",
        "    gcd,x1,y1 = gcdExtended(b%a, a)\n",
        "    x = y1 - (b//a) * x1\n",
        "    y = x1\n",
        "    return gcd,x,y\n",
        "\n",
        "a=int(input(\"Enter a:\"))\n",
        "b=int(input(\"Enter b:\"))\n",
        "g, x, y = gcdExtended(a, b)\n",
        "print(\"gcd(\", a , \",\" , b, \") = \", g)"
      ],
      "metadata": {
        "colab": {
          "base_uri": "https://localhost:8080/"
        },
        "id": "PVgdS-5RFgrF",
        "outputId": "3c88999a-f21d-4fdb-d1e9-cd12bd2941dd"
      },
      "execution_count": null,
      "outputs": [
        {
          "output_type": "stream",
          "name": "stdout",
          "text": [
            "Enter a:35\n",
            "Enter b:15\n",
            "gcd( 35 , 15 ) =  5\n"
          ]
        }
      ]
    },
    {
      "cell_type": "markdown",
      "source": [
        "# **Caesar Cipher**"
      ],
      "metadata": {
        "id": "7TFA9-oUECLG"
      }
    },
    {
      "cell_type": "code",
      "execution_count": 15,
      "metadata": {
        "colab": {
          "base_uri": "https://localhost:8080/"
        },
        "id": "eEeCEPj9D0US",
        "outputId": "4c46c3ec-fe41-4996-efe9-700e5333a9f1"
      },
      "outputs": [
        {
          "output_type": "stream",
          "name": "stdout",
          "text": [
            "Enter string: Hello World!\n",
            "ehoor truogr\n"
          ]
        }
      ],
      "source": [
        "string = input(\"Enter string: \")\n",
        "encrypted = ''\n",
        "key = 3\n",
        "for x in string:\n",
        "  if(ord(x)==32):\n",
        "    encrypted += \" \"\n",
        "  else:\n",
        "    encrypted += chr(((ord(x) + key - ord('a'))%26 + ord('a')))\n",
        "print(encrypted)"
      ]
    },
    {
      "cell_type": "code",
      "source": [
        "string = input(\"Enter string: \")\n",
        "decrypted = ''\n",
        "key = -3\n",
        "for x in string:\n",
        "  if(ord(x)==32):\n",
        "    decrypted += \" \"\n",
        "  else:\n",
        "    decrypted += chr(((ord(x) + key - ord('a'))%26 + ord('a')))\n",
        "print(decrypted)"
      ],
      "metadata": {
        "colab": {
          "base_uri": "https://localhost:8080/"
        },
        "id": "-mAypVyCEVh7",
        "outputId": "dd9f67a2-faf9-48b7-bc3f-5f9b517b151b"
      },
      "execution_count": null,
      "outputs": [
        {
          "output_type": "stream",
          "name": "stdout",
          "text": [
            "Enter string: dwwdfn\n",
            "attack\n"
          ]
        }
      ]
    },
    {
      "cell_type": "code",
      "source": [
        "#Brute force method\n",
        "string = input(\"Enter string: \")\n",
        "for i in range(1, 26):\n",
        "  decrypted = ''\n",
        "  key = -i\n",
        "  for x in string:\n",
        "    if(ord(x)==32):\n",
        "      decrypted += \" \"\n",
        "    else:\n",
        "      decrypted += chr(((ord(x) + key - ord('a'))%26 + ord('a')))\n",
        "  print(decrypted)"
      ],
      "metadata": {
        "colab": {
          "base_uri": "https://localhost:8080/"
        },
        "id": "uTBPtxfsEhar",
        "outputId": "a72fe65f-af48-414f-c628-2df0f9d59ce2"
      },
      "execution_count": null,
      "outputs": [
        {
          "output_type": "stream",
          "name": "stdout",
          "text": [
            "Enter string: dwwdfn\n",
            "cvvcem\n",
            "buubdl\n",
            "attack\n",
            "zsszbj\n",
            "yrryai\n",
            "xqqxzh\n",
            "wppwyg\n",
            "voovxf\n",
            "unnuwe\n",
            "tmmtvd\n",
            "sllsuc\n",
            "rkkrtb\n",
            "qjjqsa\n",
            "piiprz\n",
            "ohhoqy\n",
            "nggnpx\n",
            "mffmow\n",
            "leelnv\n",
            "kddkmu\n",
            "jccjlt\n",
            "ibbiks\n",
            "haahjr\n",
            "gzzgiq\n",
            "fyyfhp\n",
            "exxego\n"
          ]
        }
      ]
    },
    {
      "cell_type": "markdown",
      "source": [
        "# **Columnar Transposition Cipher**"
      ],
      "metadata": {
        "id": "6FC3fFk1EqwY"
      }
    },
    {
      "cell_type": "code",
      "source": [
        "import math\n",
        "\n",
        "def transposition_cipher(msg, key, decrypt=False):\n",
        "    k_indx = 0\n",
        "    msg_indx = 0\n",
        "    msg_len = float(len(msg))\n",
        "    msg_lst = list(msg)\n",
        "    col = len(key)\n",
        "    row = int(math.ceil(msg_len / col))\n",
        "    fill_null = int((row * col) - msg_len)\n",
        "    msg_lst.extend('_' * fill_null)\n",
        "    matrix = [msg_lst[i: i + col] for i in range(0, len(msg_lst), col)]\n",
        "    key_lst = sorted(list(key))\n",
        "    dec_cipher = [[''] * col for _ in range(row)]\n",
        "    result = ''\n",
        "\n",
        "    for _ in range(col):\n",
        "        curr_idx = key.index(key_lst[k_indx])\n",
        "        if decrypt:\n",
        "            for j in range(row):\n",
        "                dec_cipher[j][curr_idx] = msg_lst[msg_indx]\n",
        "                msg_indx += 1\n",
        "        else:\n",
        "            result += ''.join([row[curr_idx] for row in matrix])\n",
        "        k_indx += 1\n",
        "\n",
        "    return ''.join(sum(dec_cipher, [])) if decrypt else result\n",
        "\n",
        "msg =input(\"Enter string\")\n",
        "key =input(\"Enter key\")\n",
        "\n",
        "cipher = transposition_cipher(msg, key)\n",
        "print(\"Encrypted Message: {}\".format(cipher))\n",
        "\n",
        "print(\"Decrypted Message: {}\".format(transposition_cipher(cipher, key, True)))"
      ],
      "metadata": {
        "colab": {
          "base_uri": "https://localhost:8080/"
        },
        "id": "VEDXxGhlEvCp",
        "outputId": "5d17892e-6ef6-4925-9d05-366ef11a70ca"
      },
      "execution_count": null,
      "outputs": [
        {
          "output_type": "stream",
          "name": "stdout",
          "text": [
            "Enter stringGeeks for Geeks\n",
            "Enter keyHACK\n",
            "Encrypted Message: e  kefGsGsrekoe_\n",
            "Decrypted Message: Geeks for Geeks_\n"
          ]
        }
      ]
    },
    {
      "cell_type": "markdown",
      "source": [
        "# **Vernum Cipher**"
      ],
      "metadata": {
        "id": "xIhM-kRStAGA"
      }
    },
    {
      "cell_type": "code",
      "source": [
        "def stringEncryption(text, key):\n",
        "    cipher = [chr((ord(text[i]) - 2*ord('A') + ord(key[i])) % 26 + ord('A')) for i in range(len(key))]\n",
        "    return \"\".join(cipher)\n",
        "\n",
        "def stringDecryption(s, key):\n",
        "    plain = [chr((ord(s[i]) - ord(key[i])) % 26 + ord('A')) for i in range(len(key))]\n",
        "    return \"\".join(plain)\n",
        "\n",
        "plainText = input(\"Enter plaintext\").upper()\n",
        "key = input(\"Enter key\").upper()\n",
        "\n",
        "if len(plainText) != len(key):\n",
        "    print(\"Inappropriate length of key. Key length should be same as plaintext length.\")\n",
        "else:\n",
        "    encryptedText = stringEncryption(plainText, key)\n",
        "    print(\"Cipher Text - \" + encryptedText)\n",
        "    print(\"Message - \" + stringDecryption(encryptedText, key))"
      ],
      "metadata": {
        "colab": {
          "base_uri": "https://localhost:8080/"
        },
        "id": "V0kI_FyvyRWd",
        "outputId": "7a4b5f07-14d8-44db-f504-3fa049b237bf"
      },
      "execution_count": null,
      "outputs": [
        {
          "output_type": "stream",
          "name": "stdout",
          "text": [
            "Enter plaintexthello\n",
            "Enter keybaxyc\n",
            "Cipher Text - IEIJQ\n",
            "Message - HELLO\n"
          ]
        }
      ]
    },
    {
      "cell_type": "markdown",
      "source": [
        "# **Rail fence Cipher**"
      ],
      "metadata": {
        "id": "u5H3MsUzCWy3"
      }
    },
    {
      "cell_type": "code",
      "source": [
        "s = input(\"Enter string: \").replace(\" \", \"\")\n",
        "k = int(input(\"Enter key: \"))\n",
        "enc = [[\" \" for _ in range(len(s))] for _ in range(k)]\n",
        "flag, row = 0, 0\n",
        "\n",
        "for i in range(len(s)):\n",
        "    enc[row][i] = s[i]\n",
        "    if row == 0:\n",
        "        flag = 0\n",
        "    elif row == k-1:\n",
        "        flag = 1\n",
        "    row += 1 if flag == 0 else -1\n",
        "    row = row % k\n",
        "\n",
        "for i in range(k):\n",
        "    print(\"\".join(enc[i]))\n",
        "\n",
        "ct = [enc[i][j] for i in range(k) for j in range(len(s)) if enc[i][j] != ' ']\n",
        "print(\"Cipher Text: \", \"\".join(ct))\n"
      ],
      "metadata": {
        "colab": {
          "base_uri": "https://localhost:8080/"
        },
        "id": "1crIhfu0B_I1",
        "outputId": "14f0968e-2924-46f8-bc59-9c79f181cf40"
      },
      "execution_count": 16,
      "outputs": [
        {
          "output_type": "stream",
          "name": "stdout",
          "text": [
            "Enter string: ehoor truogr\n",
            "Enter key: 3\n",
            "e   r   o  \n",
            " h o t u g \n",
            "  o   r   r\n",
            "Cipher Text:  erohotugorr\n"
          ]
        }
      ]
    },
    {
      "cell_type": "markdown",
      "source": [
        "# **Diffie Hellman**"
      ],
      "metadata": {
        "id": "sCwqBk2tcocz"
      }
    },
    {
      "cell_type": "code",
      "source": [
        "def diffie_hellman(p, g, a, b):\n",
        "  x_a = (g**a)%p\n",
        "  x_b = (g**b)%p\n",
        "  a_k = (x_b**a)%p\n",
        "  b_k = (x_a**b)%p\n",
        "  if(a_k==b_k):\n",
        "    print(\"Alice and Bob share the same secret key.\")\n",
        "    print(\"Shared Secret key:\", a_k)\n",
        "  else:\n",
        "    print(\"Alice and Bob can't share a same secret key.\")\n",
        "\n",
        "p = int(input(\"Enter value of P: \"))\n",
        "g = int(input(\"Enter value of g: \"))\n",
        "a = int(input(\"Enter private key (a) of Alice: \"))\n",
        "b = int(input(\"Enter private key (b) of Bob: \"))\n",
        "diffie_hellman(p, g, a, b)"
      ],
      "metadata": {
        "colab": {
          "base_uri": "https://localhost:8080/"
        },
        "id": "lbkv8hnEcs5C",
        "outputId": "079fc996-4712-486f-dfb5-f14b5b796543"
      },
      "execution_count": null,
      "outputs": [
        {
          "output_type": "stream",
          "name": "stdout",
          "text": [
            "Enter value of P: 17\n",
            "Enter value of g: 7\n",
            "Enter private key (a) of Alice: 5\n",
            "Enter private key (b) of Bob: 3\n",
            "Alice and Bob share the same secret key.\n",
            "Shared Secret key: 5\n"
          ]
        }
      ]
    },
    {
      "cell_type": "code",
      "source": [
        "def prime_checker(p):\n",
        "    if p < 2 or any(p % i == 0 for i in range(2, p)):\n",
        "        return -1\n",
        "    return 1\n",
        "\n",
        "def primitive_check(g, p):\n",
        "    L = [pow(g, i, p) for i in range(1, p)]\n",
        "    return -1 if any(L.count(i) > 1 for i in range(1, p)) else 1\n",
        "\n",
        "while True:\n",
        "    P = int(input(\"Enter P : \"))\n",
        "    if prime_checker(P) == -1:\n",
        "        print(\"Number Is Not Prime, Please Enter Again!\")\n",
        "        continue\n",
        "    break\n",
        "\n",
        "while True:\n",
        "    G = int(input(f\"Enter The Primitive Root Of {P} : \"))\n",
        "    if primitive_check(G, P) == -1:\n",
        "        print(f\"Number Is Not A Primitive Root Of {P}, Please Try Again!\")\n",
        "        continue\n",
        "    break\n",
        "\n",
        "x1, x2 = int(input(\"Enter The Private Key Of User 1 : \")), int(input(\"Enter The Private Key Of User 2 : \"))\n",
        "if x1 >= P or x2 >= P:\n",
        "    print(f\"Private Key Of Both The Users Should Be Less Than {P}!\")\n",
        "else:\n",
        "    y1, y2 = pow(G, x1, P), pow(G, x2, P)\n",
        "    k1, k2 = pow(y2, x1, P), pow(y1, x2, P)\n",
        "    print(f\"\\nSecret Key For User 1 Is {k1}\\nSecret Key For User 2 Is {k2}\\n\")\n",
        "    print(\"Keys Have Been Exchanged Successfully\") if k1 == k2 else print(\"Keys Have Not Been Exchanged Successfully\")\n"
      ],
      "metadata": {
        "colab": {
          "base_uri": "https://localhost:8080/"
        },
        "id": "gX5aP66beRG1",
        "outputId": "e6c8f029-d71c-4b89-a3da-8122f5f00aac"
      },
      "execution_count": null,
      "outputs": [
        {
          "output_type": "stream",
          "name": "stdout",
          "text": [
            "Enter P : 17\n",
            "Enter The Primitive Root Of 17 : 7\n",
            "Enter The Private Key Of User 1 : 5\n",
            "Enter The Private Key Of User 2 : 3\n",
            "\n",
            "Secret Key For User 1 Is 5\n",
            "Secret Key For User 2 Is 5\n",
            "\n",
            "Keys Have Been Exchanged Successfully\n"
          ]
        }
      ]
    },
    {
      "cell_type": "markdown",
      "source": [
        "# **Diffie Hellman Man in The Middle**"
      ],
      "metadata": {
        "id": "dcT-b0GtHcg1"
      }
    },
    {
      "cell_type": "code",
      "source": [
        "def prime_checker(p):\n",
        "    if p < 2 or any(p % i == 0 for i in range(2, p)):\n",
        "        return -1\n",
        "    return 1\n",
        "\n",
        "def primitive_check(g, p):\n",
        "    L = [pow(g, i, p) for i in range(1, p)]\n",
        "    return -1 if any(L.count(i) > 1 for i in range(1, p)) else 1\n",
        "\n",
        "while True:\n",
        "    P = int(input(\"Enter P : \"))\n",
        "    if prime_checker(P) == -1:\n",
        "        print(\"Number Is Not Prime, Please Enter Again!\")\n",
        "        continue\n",
        "    break\n",
        "\n",
        "while True:\n",
        "    G = int(input(f\"Enter The Primitive Root Of {P} : \"))\n",
        "    if primitive_check(G, P) == -1:\n",
        "        print(f\"Number Is Not A Primitive Root Of {P}, Please Try Again!\")\n",
        "        continue\n",
        "    break\n",
        "a1=8\n",
        "a2=6\n",
        "x1, x2 = int(input(\"Enter The Private Key Of User 1 : \")), int(input(\"Enter The Private Key Of User 2 : \"))\n",
        "if x1 >= P or x2 >= P:\n",
        "    print(f\"Private Key Of Both The Users Should Be Less Than {P}!\")\n",
        "else:\n",
        "    y1= pow(G, x1, P)\n",
        "    y2=pow(G, x2, P)\n",
        "    cy1=pow(G,a1,P)\n",
        "    cy2=pow(G,a2,P)\n",
        "    k1=pow(cy2, x1, P)\n",
        "    k2=pow(cy1, x2, P)\n",
        "    ck1=pow(y2,a1,P)\n",
        "    ck2=pow(y1,a2,P)\n",
        "    print(f\"\\nSecret Key For User 1 Is {k1}\\nSecret Key For User 2 Is {k2}\\n\")\n",
        "    print(f\"\\nSecret Key For User 1  that Intruder has Is {ck1}\\nSecret Key that Intruder For User 2 Is {ck2}\\n\")\n",
        "    print(\"Keys Have Been Exchanged Successfully\") if k1 == k2 else print(\"Keys Have Not Been Exchanged Successfully\")\n"
      ],
      "metadata": {
        "colab": {
          "base_uri": "https://localhost:8080/"
        },
        "id": "edEAgsn3Er0t",
        "outputId": "966f05a1-60b0-4fc0-8c4a-64728702ef14"
      },
      "execution_count": 25,
      "outputs": [
        {
          "output_type": "stream",
          "name": "stdout",
          "text": [
            "Enter P : 13\n",
            "Enter The Primitive Root Of 13 : 2\n",
            "Enter The Private Key Of User 1 : 6\n",
            "Enter The Private Key Of User 2 : 11\n",
            "\n",
            "Secret Key For User 1 Is 1\n",
            "Secret Key For User 2 Is 3\n",
            "\n",
            "\n",
            "Secret Key For User 1  that Intruder has Is 3\n",
            "Secret Key that Intruder For User 2 Is 1\n",
            "\n",
            "Keys Have Not Been Exchanged Successfully\n"
          ]
        }
      ]
    },
    {
      "cell_type": "markdown",
      "source": [
        "# **RSA Algorithm**"
      ],
      "metadata": {
        "id": "RFlmbR7fopjo"
      }
    },
    {
      "cell_type": "code",
      "source": [
        "import math\n",
        "\n",
        "def gcd(a, b):\n",
        "    return a if b==0 else gcd(b, a % b)\n",
        "\n",
        "def multiplicative_inverse(e, phi):\n",
        "    _, x, _ = extended_gcd(e, phi)\n",
        "    return x % phi\n",
        "\n",
        "def extended_gcd(a, b):\n",
        "    return (b, 0, 1) if a == 0 else (lambda g, x, y: (g, y - (b // a) * x, x))(*extended_gcd(b % a, a))\n",
        "\n",
        "def is_prime(n):\n",
        "    return n > 1 and all(n % i for i in range(2, int(math.sqrt(n)) + 1))\n",
        "\n",
        "while True:\n",
        "    p, q = int(input(\"Enter prime number p :\")), int(input(\"Enter prime number q :\"))\n",
        "    if not all(map(is_prime, [p, q])):\n",
        "        print(\"Both numbers should be prime.\")\n",
        "    elif p == q:\n",
        "        print(\"p and q should not be equal.\")\n",
        "    else:\n",
        "        break\n",
        "\n",
        "msg, n, phi = int(input(\"Enter message to be encrypted :\")), p*q, (p-1)*(q-1)\n",
        "e = next(e for e in range(2, phi) if gcd(e, phi) == 1)\n",
        "print(\"e \",e)\n",
        "d = multiplicative_inverse(e, phi)\n",
        "print(\"d \",d)\n",
        "\n",
        "c = pow(msg, e, n)\n",
        "print(\"Encrypted data = \", c)\n",
        "m = pow(c, d, n)\n",
        "print(\"Original Message Sent = \", m)\n"
      ],
      "metadata": {
        "colab": {
          "base_uri": "https://localhost:8080/"
        },
        "id": "_Nd5U18AthTP",
        "outputId": "39f8082a-163b-4fa5-c553-ff323b626dea"
      },
      "execution_count": null,
      "outputs": [
        {
          "output_type": "stream",
          "name": "stdout",
          "text": [
            "Enter prime number p :7\n",
            "Enter prime number q :17\n",
            "Enter message to be encrypted :10\n",
            "e  5\n",
            "d  77\n",
            "Encrypted data =  40\n",
            "Original Message Sent =  10\n"
          ]
        }
      ]
    },
    {
      "cell_type": "markdown",
      "source": [
        "# **RSA Digital Signature**"
      ],
      "metadata": {
        "id": "_wKPxFDC5I60"
      }
    },
    {
      "cell_type": "code",
      "source": [
        "import math\n",
        "\n",
        "def gcd(a, b):\n",
        "    return a if b==0 else gcd(b, a % b)\n",
        "\n",
        "def multiplicative_inverse(e, phi):\n",
        "    _, x, _ = extended_gcd(e, phi)\n",
        "    return x % phi\n",
        "\n",
        "def extended_gcd(a, b):\n",
        "    return (b, 0, 1) if a == 0 else (lambda g, x, y: (g, y - (b // a) * x, x))(*extended_gcd(b % a, a))\n",
        "\n",
        "def is_prime(n):\n",
        "    return n > 1 and all(n % i for i in range(2, int(math.sqrt(n)) + 1))\n",
        "\n",
        "while True:\n",
        "    p, q = int(input(\"Enter prime number p :\")), int(input(\"Enter prime number q :\"))\n",
        "    if not all(map(is_prime, [p, q])):\n",
        "        print(\"Both numbers should be prime.\")\n",
        "    elif p == q:\n",
        "        print(\"p and q should not be equal.\")\n",
        "    else:\n",
        "        break\n",
        "\n",
        "msg, n, phi = int(input(\"Enter message to be encrypted :\")), p*q, (p-1)*(q-1)\n",
        "e = next(e for e in range(2, phi) if gcd(e, phi) == 1)\n",
        "print(\"e \",e)\n",
        "d = multiplicative_inverse(e, phi)\n",
        "print(\"d \",d)\n",
        "h=hash(msg)\n",
        "c = pow(h, d, n)\n",
        "print(\"Encrypted data = \", c)\n",
        "m = pow(c, e, n)\n",
        "print(\"Original Message Sent = \", m)\n"
      ],
      "metadata": {
        "colab": {
          "base_uri": "https://localhost:8080/"
        },
        "id": "i0ayeXXq5SqR",
        "outputId": "4685e514-528b-4cce-b8b0-72e85d5a8312"
      },
      "execution_count": 22,
      "outputs": [
        {
          "output_type": "stream",
          "name": "stdout",
          "text": [
            "Enter prime number p :17\n",
            "Enter prime number q :11\n",
            "Enter message to be encrypted :88\n",
            "e  3\n",
            "d  107\n",
            "Encrypted data =  143\n",
            "Original Message Sent =  88\n"
          ]
        }
      ]
    },
    {
      "cell_type": "markdown",
      "source": [
        "# **PlayFair Cipher**"
      ],
      "metadata": {
        "id": "CSF914ILtnli"
      }
    },
    {
      "cell_type": "code",
      "source": [
        "pt=input(\"Enter plain text:\")\n",
        "key=input(\"Enter key\")\n",
        "row=5\n",
        "col=5\n",
        "alphabets='ABCDEFGHIKLMNOPQRSTUVWXYZ'\n",
        "matrix=[['' for j in range(col)] for i in range(row)]\n",
        "r=0\n",
        "c=0\n",
        "key_set=[]\n",
        "for char in key:\n",
        "  if char not in key_set:\n",
        "    key_set.append(char)\n",
        "    matrix[r][c]=char\n",
        "    c+=1\n",
        "    if c==5:\n",
        "      c=0\n",
        "      r+=1\n",
        "for alpha in alphabets:\n",
        "  if alpha not in key_set:\n",
        "    matrix[r][c]=alpha\n",
        "    c+=1\n",
        "    if c==5:\n",
        "      c=0\n",
        "      r+=1\n",
        "matrix"
      ],
      "metadata": {
        "colab": {
          "base_uri": "https://localhost:8080/"
        },
        "id": "3mOcxYw9tp4s",
        "outputId": "2272e0f5-2b90-43bb-8f0b-651e67d4d1a6"
      },
      "execution_count": 4,
      "outputs": [
        {
          "name": "stdout",
          "output_type": "stream",
          "text": [
            "Enter plain text:ATTACK\n",
            "Enter keyMONARCHY\n"
          ]
        },
        {
          "output_type": "execute_result",
          "data": {
            "text/plain": [
              "[['M', 'O', 'N', 'A', 'R'],\n",
              " ['C', 'H', 'Y', 'B', 'D'],\n",
              " ['E', 'F', 'G', 'I', 'K'],\n",
              " ['L', 'P', 'Q', 'S', 'T'],\n",
              " ['U', 'V', 'W', 'X', 'Z']]"
            ]
          },
          "metadata": {},
          "execution_count": 4
        }
      ]
    },
    {
      "cell_type": "code",
      "source": [
        "def findcharposition(character1):\n",
        "  for i in range(5):\n",
        "    for j in range(5):\n",
        "      if(matrix[i][j]==character1):\n",
        "        return i,j\n",
        "encrypted_message = ''\n",
        "pt = list(pt)\n",
        "\n",
        "for i in range(0, len(pt), 2):  # Fix the range function to iterate in pairs\n",
        "    chr1, chr2 = pt[i], pt[i+1]  # Extract two characters from plaintext\n",
        "    x1, y1 = findcharposition(chr1)  # Get positions of characters in the matrix\n",
        "    x2, y2 = findcharposition(chr2)\n",
        "\n",
        "    if y1 == y2:\n",
        "        encrypted_message += matrix[(x1 + 1) % 5][y1]\n",
        "        encrypted_message += matrix[(x2 + 1) % 5][y2]\n",
        "    elif x1 == x2:\n",
        "        encrypted_message += matrix[x1][(y1 + 1) % 5]\n",
        "        encrypted_message += matrix[x2][(y2 + 1) % 5]\n",
        "    else:\n",
        "        encrypted_message += matrix[x1][y2]\n",
        "        encrypted_message += matrix[x2][y1]\n",
        "encrypted_message"
      ],
      "metadata": {
        "colab": {
          "base_uri": "https://localhost:8080/",
          "height": 36
        },
        "id": "Q-dBYY39t1s7",
        "outputId": "eb2159be-d6f9-494c-afe3-b27c38f92574"
      },
      "execution_count": 5,
      "outputs": [
        {
          "output_type": "execute_result",
          "data": {
            "text/plain": [
              "'RSSRDE'"
            ],
            "application/vnd.google.colaboratory.intrinsic+json": {
              "type": "string"
            }
          },
          "metadata": {},
          "execution_count": 5
        }
      ]
    },
    {
      "cell_type": "markdown",
      "source": [
        "# **ROW Transposition**"
      ],
      "metadata": {
        "id": "MK6ksHWs_T6U"
      }
    },
    {
      "cell_type": "code",
      "source": [
        "import math\n",
        "\n",
        "def row(msg, key):\n",
        "\n",
        "    col = len(key)\n",
        "    msg_len = len(msg)\n",
        "\n",
        "    row = int(math.ceil(msg_len / col))\n",
        "    fill_null = row * col - msg_len\n",
        "\n",
        "    msg += '_' * fill_null\n",
        "    matrix = [list(msg[i:i+col]) for i in range(0, len(msg), col)]\n",
        "\n",
        "    cipher = ''.join([matrix[key.index(k)][i] for k in sorted(key) for i in range(row)]) #star\n",
        "\n",
        "    return cipher, matrix\n",
        "message = input(\"Enter string: \")\n",
        "key = input(\"Enter key: \")\n",
        "\n",
        "\n",
        "cipher, matrix = row(message, key)\n",
        "\n",
        "for i in matrix:\n",
        "    print(i)\n",
        "\n",
        "print(\"Cipher text is:\", cipher)"
      ],
      "metadata": {
        "colab": {
          "base_uri": "https://localhost:8080/"
        },
        "id": "EsE4T9A4_Zt5",
        "outputId": "f095996b-4f3e-4267-d6eb-06246a78ce10"
      },
      "execution_count": 13,
      "outputs": [
        {
          "output_type": "stream",
          "name": "stdout",
          "text": [
            "Enter string: GEEKS FOR GEEKS\n",
            "Enter key: HACK\n",
            "['G', 'E', 'E', 'K']\n",
            "['S', ' ', 'F', 'O']\n",
            "['R', ' ', 'G', 'E']\n",
            "['E', 'K', 'S', '_']\n",
            "Cipher text is: S FOR GEGEEKEKS_\n"
          ]
        }
      ]
    },
    {
      "cell_type": "markdown",
      "source": [
        "# **Column Transposition**"
      ],
      "metadata": {
        "id": "8GydrMXN_8q6"
      }
    },
    {
      "cell_type": "code",
      "source": [
        "import math\n",
        "\n",
        "def columnar(msg,key):\n",
        "  col=len(key)\n",
        "  msg_len=len(msg)\n",
        "  row=int(math.ceil(msg_len/col))\n",
        "\n",
        "  fill_null = row * col - msg_len\n",
        "  msg += '_'* fill_null\n",
        "\n",
        "  matrix = [list(msg[i:i+col]) for i in range(0,len(msg),col)]\n",
        "  cipher=''.join([row[key.index(k)] for k in sorted(key) for row in matrix])  #star\n",
        "  return cipher,matrix"
      ],
      "metadata": {
        "id": "8UA7bCDM__9x"
      },
      "execution_count": 10,
      "outputs": []
    },
    {
      "cell_type": "code",
      "source": [
        "message = input(\"Enter string: \")\n",
        "key = input(\"Enter key: \")\n",
        "cipher,matrix = columnar(message,key)\n",
        "\n",
        "for i in matrix:\n",
        "  print(i)\n",
        "\n",
        "print(\"Cipher text is :\",cipher)"
      ],
      "metadata": {
        "colab": {
          "base_uri": "https://localhost:8080/"
        },
        "id": "rUhAjkKG_TkP",
        "outputId": "2fde3ad1-4b9f-4411-a9b5-3dcb6a508b09"
      },
      "execution_count": 12,
      "outputs": [
        {
          "output_type": "stream",
          "name": "stdout",
          "text": [
            "Enter string: GEEKS FOR GEEKS\n",
            "Enter key: HACK\n",
            "['G', 'E', 'E', 'K']\n",
            "['S', ' ', 'F', 'O']\n",
            "['R', ' ', 'G', 'E']\n",
            "['E', 'K', 'S', '_']\n",
            "Cipher text is : E  KEFGSGSREKOE_\n"
          ]
        }
      ]
    },
    {
      "cell_type": "markdown",
      "source": [
        "# **Product Cipher**"
      ],
      "metadata": {
        "id": "SqI941aAArNG"
      }
    },
    {
      "cell_type": "code",
      "source": [
        "import math\n",
        "\n",
        "# Caesar Cipher Encryption\n",
        "def caesar(text, shift):\n",
        "    result = \"\"\n",
        "    for char in text:\n",
        "        if char.isalpha():\n",
        "            if char.isupper():\n",
        "                result += chr((ord(char) + shift - ord('A')) % 26 + ord('A'))\n",
        "            else:\n",
        "                result += chr((ord(char) + shift - ord('a')) % 26 + ord('a'))\n",
        "        else:\n",
        "            result += char\n",
        "    return result\n",
        "\n",
        "# Rail Fence Cipher Encryption\n",
        "def rail(text, key):\n",
        "    rail = [['\\n' for _ in range(len(text))] for _ in range(key)]\n",
        "    down = False\n",
        "    row, col = 0, 0\n",
        "\n",
        "    for char in text:\n",
        "        if row == 0 or row == key - 1:\n",
        "            down = not down\n",
        "\n",
        "        rail[row][col] = char\n",
        "        col += 1\n",
        "\n",
        "        if down:\n",
        "            row += 1\n",
        "        else:\n",
        "            row -= 1\n",
        "\n",
        "    result = ''.join(char for row in rail for char in row if char != '\\n') #\n",
        "    return result\n",
        "\n",
        "# Product Cipher Encryption\n",
        "def product_cipher_encrypt(PT, caesar_key, rail_key):\n",
        "    caesar_result = caesar(PT, caesar_key)\n",
        "    return rail(caesar_result, rail_key)\n",
        "\n",
        "# Example usage\n",
        "PT = \"HelloWorld\"\n",
        "caesar_key = 3\n",
        "rail_key = 3\n",
        "\n",
        "# Encryption\n",
        "CT = product_cipher_encrypt(PT, caesar_key, rail_key)\n",
        "print(\"Cipher Text:\", CT)"
      ],
      "metadata": {
        "colab": {
          "base_uri": "https://localhost:8080/"
        },
        "id": "ytXhS1l4Aulu",
        "outputId": "1ec2733a-6ffd-4c5e-8a4b-d7ee7fc14248"
      },
      "execution_count": 19,
      "outputs": [
        {
          "output_type": "stream",
          "name": "stdout",
          "text": [
            "Cipher Text: KrohoZugor\n"
          ]
        }
      ]
    }
  ]
}